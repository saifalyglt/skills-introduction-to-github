{
 "cells": [
  {
   "cell_type": "markdown",
   "id": "bcf77d39",
   "metadata": {},
   "source": [
    "# Assignment #1"
   ]
  },
  {
   "cell_type": "markdown",
   "id": "cb64de20",
   "metadata": {},
   "source": [
    "### Title of the Notebook: Data Science"
   ]
  },
  {
   "cell_type": "markdown",
   "id": "44de9e9b",
   "metadata": {},
   "source": [
    "In this notebook we will do our first Assignment that has been given by Coursera."
   ]
  },
  {
   "cell_type": "markdown",
   "id": "b5a326e6",
   "metadata": {},
   "source": [
    "Language:\n",
    "1. Python\n",
    "2. R "
   ]
  },
  {
   "cell_type": "markdown",
   "id": "e2055ea8",
   "metadata": {},
   "source": [
    "### Data Science Libraries:\n",
    "1. Pandas\n",
    "2. Numpy\n",
    "3. Matpplotlib\n",
    "4. Scikit Learn\n",
    "5. Scipy"
   ]
  },
  {
   "cell_type": "markdown",
   "id": "313c64af",
   "metadata": {},
   "source": [
    "### DATA SCIENCE TOOLS"
   ]
  },
  {
   "cell_type": "markdown",
   "id": "e97770f9",
   "metadata": {},
   "source": [
    "#### Arithematic Expressions Intro:\n",
    "Arithmetic expressions are formed by combination of Arithematic operands. Hence there are 5 basic arithematic operands -,+,X,/,%."
   ]
  },
  {
   "cell_type": "code",
   "execution_count": 1,
   "id": "3678dbb9",
   "metadata": {},
   "outputs": [
    {
     "name": "stdout",
     "output_type": "stream",
     "text": [
      "Multiplication:  20\n",
      "Addition:  9\n"
     ]
    }
   ],
   "source": [
    "a= 5\n",
    "b= 4\n",
    "mult=a*b\n",
    "add=a+b\n",
    "print(\"Multiplication: \",mult)\n",
    "print(\"Addition: \",add)"
   ]
  },
  {
   "cell_type": "markdown",
   "id": "8ecb35c2",
   "metadata": {},
   "source": [
    "#### Hours to Minutes:"
   ]
  },
  {
   "cell_type": "code",
   "execution_count": 2,
   "id": "33b90af8",
   "metadata": {},
   "outputs": [
    {
     "name": "stdout",
     "output_type": "stream",
     "text": [
      "Hours-to-minutes: 300\n"
     ]
    }
   ],
   "source": [
    "hours = 5\n",
    "mints = 5*60\n",
    "print(\"Hours-to-minutes:\",mints )"
   ]
  },
  {
   "cell_type": "markdown",
   "id": "fd775ace",
   "metadata": {},
   "source": [
    "This is the introductory sentence of the ex 10 \n",
    "Unordered list= [2,1,3,2,1,0,-1,20,90,-1]"
   ]
  },
  {
   "cell_type": "markdown",
   "id": "5d199598",
   "metadata": {},
   "source": [
    "##### Author’s Name: SAIF ALI"
   ]
  },
  {
   "cell_type": "markdown",
   "id": "6295ad4c",
   "metadata": {},
   "source": []
  }
 ],
 "metadata": {
  "kernelspec": {
   "display_name": "Python 3",
   "language": "python",
   "name": "python3"
  },
  "language_info": {
   "codemirror_mode": {
    "name": "ipython",
    "version": 3
   },
   "file_extension": ".py",
   "mimetype": "text/x-python",
   "name": "python",
   "nbconvert_exporter": "python",
   "pygments_lexer": "ipython3",
   "version": "3.11.9"
  }
 },
 "nbformat": 4,
 "nbformat_minor": 5
}
